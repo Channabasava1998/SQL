{
 "cells": [
  {
   "cell_type": "markdown",
   "metadata": {},
   "source": [
    "#### Q-1. Write an SQL query to print details of the Workers who have joined in Feb’2014."
   ]
  },
  {
   "cell_type": "code",
   "execution_count": null,
   "metadata": {},
   "outputs": [],
   "source": [
    "SELECT * FROM Worker WHERE YEAR(JOINING_DATE) = 2014 AND MONTH(JOINING_DATE) = 02;\n",
    "# or\n",
    "SELECT * FROM Worker WHERE JOINING_DATE LIKE \"%2014-02%\""
   ]
  },
  {
   "cell_type": "markdown",
   "metadata": {},
   "source": [
    "#### Q-2. Write an SQL query to fetch duplicate records having matching data in some fields of a table.\n",
    "**Ans:** `SELECT column_name, COUNT(column_name) FROM Worker GROUP BY FEILD HAVING COUNT(column_name) > 1;`"
   ]
  },
  {
   "cell_type": "markdown",
   "metadata": {},
   "source": [
    "#### Q-3. How to remove duplicate rows from Employees table."
   ]
  },
  {
   "cell_type": "code",
   "execution_count": null,
   "metadata": {},
   "outputs": [],
   "source": [
    "# Create table \n",
    "CREATE TABLE Employees (\n",
    "    ID INT PRIMARY KEY AUTO_INCREMENT NOT NULL,\n",
    "    FIRST_NAME VARCHAR(50),\n",
    "    LAST_NAME VARCHAR(50),\n",
    "    COUNTRY VARCHAR(50)\n",
    ");\n",
    "\n",
    "# insert values\n",
    "INSERT INTO Employee VALUES \n",
    "(1,'CAHNNU','SAH','INDIA'),\n",
    "(2,'CAHNNU','SAH','INDIA'),\n",
    "(3,'CAHNNU','SAH','INDIA'),\n",
    "(4,'MANJU','HAN','CANADA'),\n",
    "(5,'MANJU','HAN','CANADA'),\n",
    "(6,'MANJU','HAN','CANADA');\n",
    "\n",
    "# for identifying how many rows are duplicated\n",
    "SELECT ID,FIRST_NAME,LAST_NAME,COUNTRY, COUNT(*) FROM Employees\n",
    "GROUP BY FIRST_NAME,LAST_NAME,COUNTRY\n",
    "HAVING COUNT(*)>1;\n",
    "\n",
    "# delete the duplicate row from employees.\n",
    "DELETE FROM Employees WHERE ID NOT IN (\n",
    "SELECT MAX(ID) FROM DETAILS GROUP BY FIRST_NAME,LAST_NAME,COUNTRY);"
   ]
  }
 ],
 "metadata": {
  "kernelspec": {
   "display_name": "Python 3",
   "language": "python",
   "name": "python3"
  },
  "language_info": {
   "codemirror_mode": {
    "name": "ipython",
    "version": 3
   },
   "file_extension": ".py",
   "mimetype": "text/x-python",
   "name": "python",
   "nbconvert_exporter": "python",
   "pygments_lexer": "ipython3",
   "version": "3.8.5"
  }
 },
 "nbformat": 4,
 "nbformat_minor": 5
}
